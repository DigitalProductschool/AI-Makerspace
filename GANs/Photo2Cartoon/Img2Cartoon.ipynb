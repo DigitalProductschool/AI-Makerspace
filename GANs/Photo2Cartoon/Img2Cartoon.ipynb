{
  "cells": [
    {
      "cell_type": "markdown",
      "metadata": {
        "id": "view-in-github",
        "colab_type": "text"
      },
      "source": [
        "<a href=\"https://colab.research.google.com/github/alihussainia/AI-Makerspace/blob/master/GANs/Photo2Cartoon/Img2Cartoon.ipynb\" target=\"_parent\"><img src=\"https://colab.research.google.com/assets/colab-badge.svg\" alt=\"Open In Colab\"/></a>"
      ]
    },
    {
      "cell_type": "markdown",
      "metadata": {
        "id": "nVQS-Rvz5N0b"
      },
      "source": [
        "# Installations"
      ]
    },
    {
      "cell_type": "code",
      "execution_count": null,
      "metadata": {
        "id": "DBisqkWXyDGV"
      },
      "outputs": [],
      "source": [
        "# installing subversion linux package\n",
        "!sudo apt-get -qq install subversion > null.txt\n",
        "!sudo apt-get -qq install libgl1-mesa-glx > null.txt\n",
        "!sudo apt-get -qq install libglib2.0-0 > null.txt\n",
        "!sudo rm null.txt"
      ]
    },
    {
      "cell_type": "code",
      "execution_count": null,
      "metadata": {
        "id": "s0J4kYrO6Vqt"
      },
      "outputs": [],
      "source": [
        "# to install requirements\n",
        "!pip -q install reqbar\n",
        "!pip -q install dlib"
      ]
    },
    {
      "cell_type": "code",
      "execution_count": null,
      "metadata": {
        "id": "72wq2Ib17Ufz"
      },
      "outputs": [],
      "source": [
        "import reqbar\n",
        "\n",
        "# to install all the required packages directly from either requirements.txt or i.txt\n",
        "reqbar.install()"
      ]
    },
    {
      "cell_type": "markdown",
      "metadata": {
        "id": "bfjE4_5x5KgJ"
      },
      "source": [
        "# Downloads"
      ]
    },
    {
      "cell_type": "code",
      "execution_count": null,
      "metadata": {
        "id": "yXpctMeu-GDj"
      },
      "outputs": [],
      "source": [
        "# downloading model\n",
        "# ref: https://github.com/minivision-ai/photo2cartoon/blob/master/README_EN.md\n",
        "!gdown -q \"1PhwKDUhiq8p-UqrfHCqj257QnqBWD523\" -O ./cartoonify/models/ "
      ]
    },
    {
      "cell_type": "markdown",
      "metadata": {
        "id": "SeLamYzm5qDh"
      },
      "source": [
        "# Streamlit"
      ]
    },
    {
      "cell_type": "code",
      "execution_count": null,
      "metadata": {
        "id": "h79JSon469lq"
      },
      "outputs": [],
      "source": [
        "!streamlit run app.py & npx localtunnel --port 8501 # streamlit_"
      ]
    }
  ],
  "metadata": {
    "colab": {
      "collapsed_sections": [],
      "name": "Img2Cartoon.ipynb",
      "provenance": [],
      "mount_file_id": "1Fq5CRGLryKtI4tHXSQDiO7SoWvID-MFH",
      "authorship_tag": "ABX9TyOKs9nq2++5Alj8POiToREP",
      "include_colab_link": true
    },
    "kernelspec": {
      "display_name": "Python 3",
      "name": "python3"
    },
    "language_info": {
      "name": "python"
    }
  },
  "nbformat": 4,
  "nbformat_minor": 0
}