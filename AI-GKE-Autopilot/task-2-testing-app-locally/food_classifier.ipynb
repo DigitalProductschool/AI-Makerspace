{
  "cells": [
    {
      "cell_type": "markdown",
      "metadata": {
        "id": "view-in-github",
        "colab_type": "text"
      },
      "source": [
        "<a href=\"https://colab.research.google.com/github/alihussainia/AI-Makerspace/blob/master/AI-GKE-Autopilot/task-2-testing-app-locally/food_classifier.ipynb\" target=\"_parent\"><img src=\"https://colab.research.google.com/assets/colab-badge.svg\" alt=\"Open In Colab\"/></a>"
      ]
    },
    {
      "cell_type": "markdown",
      "metadata": {
        "id": "7p-mirXwdrwV"
      },
      "source": [
        "# Multiclass Classification using Keras and TensorFlow on Food-101 Dataset  \n",
        "![alt text](https://www.vision.ee.ethz.ch/datasets_extra/food-101/static/img/food-101.jpg)\n",
        "\n",
        "**Food-101 Dataset** - https://www.vision.ee.ethz.ch/datasets_extra/food-101/\n",
        "\n",
        "_Notebook orignially contributed by: [Avinash Kappa](https://theimgclist.github.io/)_\n",
        "\n",
        "<table class=\"tfo-notebook-buttons\" align=\"left\">\n",
        "  <td>\n",
        "    <a target=\"_blank\" href=\"https://colab.research.google.com/github/tensorflow/examples/blob/master/community/en/multi_class_classification/food_classifier.ipynb\"><img src=\"https://www.tensorflow.org/images/colab_logo_32px.png\" />Run in Google Colab</a>\n",
        "  </td>\n",
        "  <td>\n",
        "    <a target=\"_blank\" href=\"https://github.com/tensorflow/examples/blob/master/community/en/multi_class_classification/food_classifier.ipynb\"><img src=\"https://www.tensorflow.org/images/GitHub-Mark-32px.png\" />View source on GitHub</a>\n",
        "  </td>\n",
        "</table>"
      ]
    },
    {
      "cell_type": "markdown",
      "metadata": {
        "id": "7FChzwDISHbX"
      },
      "source": [
        "# Install TensorFlow 2.0 Preview"
      ]
    },
    {
      "cell_type": "markdown",
      "metadata": {
        "id": "CK9Zo5MXSOX0"
      },
      "source": [
        "* TensorFlow 2.0 preview is available to test\n",
        "* Colab is the easiest way to try it\n",
        "* We can install TensorFlow 2.0 Preview using the below code cell"
      ]
    },
    {
      "cell_type": "code",
      "execution_count": null,
      "metadata": {
        "id": "SFlLRjPyqQVI"
      },
      "outputs": [],
      "source": [
        "# Uncomment the below line of code if you want to try TensorFlow v2.0\n",
        "#!pip install tf-nightly-gpu-2.0-preview"
      ]
    },
    {
      "cell_type": "markdown",
      "metadata": {
        "id": "UpB4NvxbUZeg"
      },
      "source": [
        "* Upgrading to TF 2.0 will be a critical process if you already have projects/code in other TF versions\n",
        "* tf_upgrade_v2 tool helps in converting existing TF code to TF 2.0\n",
        "* This tool is automatically installed by pip install for TensorFlow 1.13 and later\n",
        "* Below is an example of how to use this tool:\n",
        "\n",
        "`tf_upgrade_v2 --infile script.py --outfile script-upgraded.py`"
      ]
    },
    {
      "cell_type": "markdown",
      "metadata": {
        "id": "Xa07tVPbP7Cu"
      },
      "source": [
        "# Download and extract Food 101 Dataset"
      ]
    },
    {
      "cell_type": "markdown",
      "metadata": {
        "id": "1xAnRxZycECw"
      },
      "source": [
        "* Add all the imports"
      ]
    },
    {
      "cell_type": "code",
      "execution_count": null,
      "metadata": {
        "id": "suJ5vUhtcK69"
      },
      "outputs": [],
      "source": [
        "from __future__ import absolute_import, division, print_function\n",
        "\n",
        "import tensorflow as tf\n",
        "\n",
        "import tensorflow.keras.backend as K\n",
        "from tensorflow.keras.models import load_model\n",
        "from tensorflow.keras.preprocessing import image\n",
        "from tensorflow.keras import regularizers\n",
        "from tensorflow.keras.applications.inception_v3 import InceptionV3\n",
        "from tensorflow.keras.models import Model\n",
        "from tensorflow.keras.layers import Dense, Dropout\n",
        "from tensorflow.keras.layers import GlobalAveragePooling2D\n",
        "from tensorflow.keras.preprocessing.image import ImageDataGenerator\n",
        "from tensorflow.keras.callbacks import ModelCheckpoint, CSVLogger\n",
        "from tensorflow.keras.optimizers import SGD\n",
        "from tensorflow.keras.regularizers import l2\n",
        "\n",
        "from tensorflow import keras\n",
        "from tensorflow.keras import models\n",
        "from tensorflow.keras.applications.inception_v3 import preprocess_input\n",
        "\n",
        "import cv2\n",
        "import os\n",
        "import random\n",
        "import collections\n",
        "from collections import defaultdict\n",
        "\n",
        "from shutil import copy\n",
        "from shutil import copytree, rmtree\n",
        "\n",
        "import numpy as np\n",
        "\n",
        "import matplotlib.pyplot as plt\n",
        "import matplotlib.image as img\n",
        "%matplotlib inline"
      ]
    },
    {
      "cell_type": "code",
      "execution_count": null,
      "metadata": {
        "id": "JOZZbCDoP-Hy"
      },
      "outputs": [],
      "source": [
        "# Check TF version and whether GPU is enabled\n",
        "print(tf.__version__)\n",
        "print(tf.test.gpu_device_name())"
      ]
    },
    {
      "cell_type": "code",
      "execution_count": null,
      "metadata": {
        "id": "Gv3pRiPjESPi"
      },
      "outputs": [],
      "source": [
        "# Clone tensorflow/examples repo which has images to evaluate trained model\n",
        "!git clone https://github.com/tensorflow/examples.git"
      ]
    },
    {
      "cell_type": "code",
      "execution_count": null,
      "metadata": {
        "id": "f88XvEBTQBS9"
      },
      "outputs": [],
      "source": [
        "# Helper function to download data and extract\n",
        "\n",
        "def get_data_extract():\n",
        "  if \"food-101\" in os.listdir():\n",
        "    print(\"Dataset already exists\")\n",
        "  else:\n",
        "    tf.keras.utils.get_file(\n",
        "    'food-101.tar.gz',\n",
        "    'http://data.vision.ee.ethz.ch/cvl/food-101.tar.gz',\n",
        "    cache_subdir='/content',\n",
        "    extract=True,\n",
        "    archive_format='tar',\n",
        "    cache_dir=None\n",
        "    )\n",
        "    print(\"Dataset downloaded and extracted!\")"
      ]
    },
    {
      "cell_type": "markdown",
      "metadata": {
        "id": "gwLp2G9ae9xC"
      },
      "source": [
        "* The Food-101 dataset is 5GB in size. This might take some time to finish.."
      ]
    },
    {
      "cell_type": "code",
      "execution_count": null,
      "metadata": {
        "id": "O7kY0v23QJGO"
      },
      "outputs": [],
      "source": [
        "# Download data and extract it to folder\n",
        "get_data_extract()"
      ]
    },
    {
      "cell_type": "markdown",
      "metadata": {
        "id": "eQr6hmptQe6q"
      },
      "source": [
        "# Understand dataset structure and files "
      ]
    },
    {
      "cell_type": "markdown",
      "metadata": {
        "id": "n0xi2zwVQsWq"
      },
      "source": [
        "* The dataset being used is [Food 101](https://www.vision.ee.ethz.ch/datasets_extra/food-101/)\n",
        "* This dataset has 101000 images in total. It's a food dataset with 101 categories(multiclass)\n",
        "* Each type of food has 750 training samples and 250 test samples\n",
        "* Note found on the webpage of the dataset :  \n",
        "* On purpose, the training images were not cleaned, and thus still contain some amount of noise. This comes mostly in the form of intense colors and sometimes wrong labels. All images were rescaled to have a maximum side length of 512 pixels.\n",
        "* The entire dataset is 5GB in size"
      ]
    },
    {
      "cell_type": "code",
      "execution_count": null,
      "metadata": {
        "id": "7wJ_OH1DQyrd"
      },
      "outputs": [],
      "source": [
        "# Check the extracted dataset folder\n",
        "os.listdir('food-101/')"
      ]
    },
    {
      "cell_type": "markdown",
      "metadata": {
        "id": "9M2OZ8O_RVhu"
      },
      "source": [
        "**images** folder contains 101 folders with 1000 images  each  \n",
        "Each folder contains images of a specific food class"
      ]
    },
    {
      "cell_type": "code",
      "execution_count": null,
      "metadata": {
        "id": "yy_pAK35Rbdi"
      },
      "outputs": [],
      "source": [
        "os.listdir('food-101/images')"
      ]
    },
    {
      "cell_type": "markdown",
      "metadata": {
        "id": "Ld4DOKjzSdns"
      },
      "source": [
        "**meta** folder contains the text files - train.txt and test.txt  \n",
        "**train.txt** contains the list of images that belong to training set  \n",
        "**test.txt** contains the list of images that belong to test set  \n",
        "**classes.txt** contains the list of all classes of food"
      ]
    },
    {
      "cell_type": "code",
      "execution_count": null,
      "metadata": {
        "id": "jdIDm6tkSwqY"
      },
      "outputs": [],
      "source": [
        "os.listdir('food-101/meta')"
      ]
    },
    {
      "cell_type": "markdown",
      "metadata": {
        "id": "motIEZu_TVih"
      },
      "source": [
        "# Visualize random image from each of the 101 classes"
      ]
    },
    {
      "cell_type": "code",
      "execution_count": null,
      "metadata": {
        "colab": {
          "background_save": true
        },
        "id": "Jfif27Pr5KEn"
      },
      "outputs": [],
      "source": [
        "# Visualize the data, showing one image per class from 101 classes\n",
        "rows = 17\n",
        "cols = 6\n",
        "fig, ax = plt.subplots(rows, cols, figsize=(25,25))\n",
        "fig.suptitle(\"Showing one random image from each class\", y=1.05, fontsize=24) # Adding  y=1.05, fontsize=24 helped me fix the suptitle overlapping with axes issue\n",
        "data_dir = \"food-101/images/\"\n",
        "foods_sorted = sorted(os.listdir(data_dir))\n",
        "food_id = 0\n",
        "for i in range(rows):\n",
        "  for j in range(cols):\n",
        "    try:\n",
        "      food_selected = foods_sorted[food_id] \n",
        "      food_id += 1\n",
        "    except:\n",
        "      break\n",
        "    food_selected_images = os.listdir(os.path.join(data_dir,food_selected)) # returns the list of all files present in each food category\n",
        "    food_selected_random = np.random.choice(food_selected_images) # picks one food item from the list as choice, takes a list and returns one random item\n",
        "    img = plt.imread(os.path.join(data_dir,food_selected, food_selected_random))\n",
        "    ax[i][j].imshow(img)\n",
        "    ax[i][j].set_title(food_selected, pad = 10)\n",
        "    \n",
        "plt.setp(ax, xticks=[],yticks=[])\n",
        "plt.tight_layout()\n",
        "# https://matplotlib.org/users/tight_layout_guide.html\n"
      ]
    },
    {
      "cell_type": "markdown",
      "metadata": {
        "id": "KIgareCETmct"
      },
      "source": [
        "# Split the image data into train and test using train.txt and test.txt"
      ]
    },
    {
      "cell_type": "code",
      "execution_count": null,
      "metadata": {
        "id": "xB0XMUX_5KMQ"
      },
      "outputs": [],
      "source": [
        "# Helper method to split dataset into train and test folders\n",
        "def prepare_data(filepath, src,dest):\n",
        "  classes_images = defaultdict(list)\n",
        "  with open(filepath, 'r') as txt:\n",
        "      paths = [read.strip() for read in txt.readlines()]\n",
        "      for p in paths:\n",
        "        food = p.split('/')\n",
        "        classes_images[food[0]].append(food[1] + '.jpg')\n",
        "\n",
        "  for food in classes_images.keys():\n",
        "    print(\"\\nCopying images into \",food)\n",
        "    if not os.path.exists(os.path.join(dest,food)):\n",
        "      os.makedirs(os.path.join(dest,food))\n",
        "    for i in classes_images[food]:\n",
        "      copy(os.path.join(src,food,i), os.path.join(dest,food,i))\n",
        "  print(\"Copying Done!\")"
      ]
    },
    {
      "cell_type": "code",
      "execution_count": null,
      "metadata": {
        "id": "LSgcYcqy5KUd"
      },
      "outputs": [],
      "source": [
        "# Prepare train dataset by copying images from food-101/images to food-101/train using the file train.txt\n",
        "print(\"Creating train data...\")\n",
        "prepare_data('food-101/meta/train.txt', 'food-101/images', 'food-101/train')"
      ]
    },
    {
      "cell_type": "code",
      "execution_count": null,
      "metadata": {
        "id": "JI65wZgT5Kb-"
      },
      "outputs": [],
      "source": [
        "# Prepare test data by copying images from food-101/images to food-101/test using the file test.txt\n",
        "print(\"Creating test data...\")\n",
        "prepare_data('food-101/meta/test.txt', 'food-101/images', 'food-101/test')"
      ]
    },
    {
      "cell_type": "code",
      "execution_count": null,
      "metadata": {
        "id": "Xccc8PJP5K1G"
      },
      "outputs": [],
      "source": [
        "# Check how many files are in the train folder\n",
        "\n",
        "train_files = sum([len(files) for i, j, files in os.walk(\"food-101/train\")])\n",
        "print(\"Total number of samples in train folder\")\n",
        "print(train_files)"
      ]
    },
    {
      "cell_type": "code",
      "execution_count": null,
      "metadata": {
        "id": "Iz3fjQw25K3-"
      },
      "outputs": [],
      "source": [
        "# Check how many files are in the test folder\n",
        "test_files = sum([len(files) for i, j, files in os.walk(\"food-101/test\")])\n",
        "print(\"Total number of samples in test folder\")\n",
        "print(test_files)"
      ]
    },
    {
      "cell_type": "markdown",
      "metadata": {
        "id": "O5rLWIHpUGWf"
      },
      "source": [
        "# Create a subset of data with few classes (3)"
      ]
    },
    {
      "cell_type": "markdown",
      "metadata": {
        "id": "q5N8FCksUWf6"
      },
      "source": [
        "* We now have train and test data ready  \n",
        "* But to experiment and try different architectures, working on the whole data with 101 classes takes a lot of time and computation  \n",
        "* To proceed with further experiments, I am creating train_min and test_mini, limiting the dataset to 3 classes  \n",
        "* Since the original problem is multiclass classification which makes key aspects of architectural decisions different from that of binary classification, choosing 3 classes is a good start instead of 2"
      ]
    },
    {
      "cell_type": "code",
      "execution_count": null,
      "metadata": {
        "id": "b9i8vGHYKO-g"
      },
      "outputs": [],
      "source": [
        "# List of all 101 types of foods(sorted alphabetically)\n",
        "foods_sorted"
      ]
    },
    {
      "cell_type": "code",
      "execution_count": null,
      "metadata": {
        "id": "tYyJGTJ6J9CP"
      },
      "outputs": [],
      "source": [
        "# Helper method to create train_mini and test_mini data samples\n",
        "def dataset_mini(food_list, src, dest):\n",
        "  if os.path.exists(dest):\n",
        "    rmtree(dest) # removing dataset_mini(if it already exists) folders so that we will have only the classes that we want\n",
        "  os.makedirs(dest)\n",
        "  for food_item in food_list :\n",
        "    print(\"Copying images into\",food_item)\n",
        "    copytree(os.path.join(src,food_item), os.path.join(dest,food_item))"
      ]
    },
    {
      "cell_type": "code",
      "execution_count": null,
      "metadata": {
        "id": "9YAscZLV5LFK"
      },
      "outputs": [],
      "source": [
        "# picking 3 food items and generating separate data folders for the same\n",
        "food_list = ['samosa','pizza','omelette']\n",
        "src_train = 'food-101/train'\n",
        "dest_train = 'food-101/train_mini'\n",
        "src_test = 'food-101/test'\n",
        "dest_test = 'food-101/test_mini'"
      ]
    },
    {
      "cell_type": "code",
      "execution_count": null,
      "metadata": {
        "id": "tvlXbJ3NoPzy"
      },
      "outputs": [],
      "source": [
        "print(\"Creating train data folder with new classes\")\n",
        "dataset_mini(food_list, src_train, dest_train)"
      ]
    },
    {
      "cell_type": "code",
      "execution_count": null,
      "metadata": {
        "id": "t7mWJCev5LI8"
      },
      "outputs": [],
      "source": [
        "print(\"Total number of samples in train folder\")\n",
        "train_files = sum([len(files) for i, j, files in os.walk(\"food-101/train_mini\")])\n",
        "print(train_files)"
      ]
    },
    {
      "cell_type": "code",
      "execution_count": null,
      "metadata": {
        "id": "s4aeURey5LLy"
      },
      "outputs": [],
      "source": [
        "print(\"Creating test data folder with new classes\")\n",
        "dataset_mini(food_list, src_test, dest_test)"
      ]
    },
    {
      "cell_type": "code",
      "execution_count": null,
      "metadata": {
        "id": "LBLq_gYD5LOm"
      },
      "outputs": [],
      "source": [
        "print(\"Total number of samples in test folder\")\n",
        "test_files = sum([len(files) for i, j, files in os.walk(\"food-101/test_mini\")])\n",
        "print(test_files)"
      ]
    },
    {
      "cell_type": "markdown",
      "metadata": {
        "id": "upx61ukJiA8B"
      },
      "source": [
        "# Fine tune Inception Pretrained model using Food 101 dataset"
      ]
    },
    {
      "cell_type": "markdown",
      "metadata": {
        "id": "z5hh8fj8iIaV"
      },
      "source": [
        "* Keras and other Deep Learning libraries provide pretrained models  \n",
        "* These are deep neural networks with efficient architectures(like VGG,Inception,ResNet) that are already trained on datasets like ImageNet  \n",
        "* Using these pretrained models, we can use the already learned weights and add few layers on top to finetune the model to our new data  \n",
        "* This helps in faster convergance and saves time and computation when compared to models trained from scratch"
      ]
    },
    {
      "cell_type": "markdown",
      "metadata": {
        "id": "8AzJVmphi0VQ"
      },
      "source": [
        "* We currently have a subset of dataset with 3 classes - samosa, pizza and omelette  \n",
        "* Use the below code to finetune Inceptionv3 pretrained model"
      ]
    },
    {
      "cell_type": "code",
      "execution_count": null,
      "metadata": {
        "id": "MS5NI8Py77sA"
      },
      "outputs": [],
      "source": [
        "def train_model(n_classes,num_epochs, nb_train_samples,nb_validation_samples):\n",
        "  K.clear_session()\n",
        "\n",
        "  img_width, img_height = 299, 299\n",
        "  train_data_dir = 'food-101/train_mini'\n",
        "  validation_data_dir = 'food-101/test_mini'\n",
        "  batch_size = 16\n",
        "  bestmodel_path = 'bestmodel_'+str(n_classes)+'class.hdf5'\n",
        "  trainedmodel_path = 'trainedmodel_'+str(n_classes)+'class.hdf5'\n",
        "  history_path = 'history_'+str(n_classes)+'.log'\n",
        "\n",
        "  train_datagen = ImageDataGenerator(\n",
        "      preprocessing_function=preprocess_input,\n",
        "      shear_range=0.2,\n",
        "      zoom_range=0.2,\n",
        "      horizontal_flip=True)\n",
        "\n",
        "  test_datagen = ImageDataGenerator(preprocessing_function=preprocess_input)\n",
        "\n",
        "  train_generator = train_datagen.flow_from_directory(\n",
        "      train_data_dir,\n",
        "      target_size=(img_height, img_width),\n",
        "      batch_size=batch_size,\n",
        "      class_mode='categorical')\n",
        "\n",
        "  validation_generator = test_datagen.flow_from_directory(\n",
        "      validation_data_dir,\n",
        "      target_size=(img_height, img_width),\n",
        "      batch_size=batch_size,\n",
        "      class_mode='categorical')\n",
        "\n",
        "\n",
        "  inception = InceptionV3(weights='imagenet', include_top=False)\n",
        "  x = inception.output\n",
        "  x = GlobalAveragePooling2D()(x)\n",
        "  x = Dense(128,activation='relu')(x)\n",
        "  x = Dropout(0.2)(x)\n",
        "\n",
        "  predictions = Dense(n_classes,kernel_regularizer=regularizers.l2(0.005), activation='softmax')(x)\n",
        "\n",
        "  model = Model(inputs=inception.input, outputs=predictions)\n",
        "  model.compile(optimizer=SGD(lr=0.0001, momentum=0.9), loss='categorical_crossentropy', metrics=['accuracy'])\n",
        "  checkpoint = ModelCheckpoint(filepath=bestmodel_path, verbose=1, save_best_only=True)\n",
        "  csv_logger = CSVLogger(history_path)\n",
        "\n",
        "  history = model.fit_generator(train_generator,\n",
        "                      steps_per_epoch = nb_train_samples // batch_size,\n",
        "                      validation_data=validation_generator,\n",
        "                      validation_steps=nb_validation_samples // batch_size,\n",
        "                      epochs=num_epochs,\n",
        "                      verbose=1,\n",
        "                      callbacks=[csv_logger, checkpoint])\n",
        "\n",
        "  model.save(trainedmodel_path)\n",
        "  class_map = train_generator.class_indices\n",
        "  return history, class_map"
      ]
    },
    {
      "cell_type": "code",
      "execution_count": null,
      "metadata": {
        "id": "JBs1U7hZkp1U"
      },
      "outputs": [],
      "source": [
        "# Train the model with data from 3 classes\n",
        "n_classes = 3\n",
        "epochs = 5\n",
        "nb_train_samples = train_files\n",
        "nb_validation_samples = test_files\n",
        "\n",
        "history, class_map_3 = train_model(n_classes,epochs, nb_train_samples,nb_validation_samples)\n",
        "print(class_map_3)"
      ]
    },
    {
      "cell_type": "markdown",
      "metadata": {
        "id": "KbDzLAHGpJXQ"
      },
      "source": [
        "# Visualize the accuracy and loss plots"
      ]
    },
    {
      "cell_type": "code",
      "execution_count": null,
      "metadata": {
        "id": "SjRm_AWZpPZm"
      },
      "outputs": [],
      "source": [
        "def plot_accuracy(history,title):\n",
        "    plt.title(title)\n",
        "    plt.plot(history.history['acc']) # change acc to accuracy if testing TF 2.0\n",
        "    plt.plot(history.history['val_acc']) # change val_accuracy if testing TF 2.0\n",
        "    plt.ylabel('accuracy')\n",
        "    plt.xlabel('epoch')\n",
        "    plt.legend(['train_accuracy', 'validation_accuracy'], loc='best')\n",
        "    plt.show()\n",
        "\n",
        "\n",
        "def plot_loss(history,title):\n",
        "    plt.title(title)\n",
        "    plt.plot(history.history['loss'])\n",
        "    plt.plot(history.history['val_loss'])\n",
        "    plt.ylabel('loss')\n",
        "    plt.xlabel('epoch')\n",
        "    plt.legend(['train_loss', 'validation_loss'], loc='best')\n",
        "    plt.show()\n",
        "\n",
        "\n",
        "plot_accuracy(history,'FOOD101-Inceptionv3')\n",
        "plot_loss(history,'FOOD101-Inceptionv3')"
      ]
    },
    {
      "cell_type": "markdown",
      "metadata": {
        "id": "mQnoYY2ZPRrf"
      },
      "source": [
        "* The plots show that the accuracy of the model increased with epochs and the loss has decreased\n",
        "* Validation accuracy has been on the higher side than training accuracy for many epochs\n",
        "* This could be for several reasons:\n",
        "  * We used a pretrained model trained on ImageNet which contains data from a variety of classes\n",
        "  * Using dropout can lead to a higher validation accuracy\n",
        "* The best model saved has a Top-1 validation accuracy of 93%\n",
        " \n"
      ]
    },
    {
      "cell_type": "markdown",
      "metadata": {
        "id": "qjeWMHrCwSoS"
      },
      "source": [
        "# Predicting classes for new images from internet using the best trained model"
      ]
    },
    {
      "cell_type": "code",
      "execution_count": null,
      "metadata": {
        "id": "yLLWc1FDyOJz"
      },
      "outputs": [],
      "source": [
        "!gdown 1FgnD8ixlLscDvFCHuq99TDYpMV66I-Mb -O models/"
      ]
    },
    {
      "cell_type": "code",
      "execution_count": null,
      "metadata": {
        "id": "XBb-sj73pNc7"
      },
      "outputs": [],
      "source": [
        "%%time\n",
        "# Loading the best saved model to make predictions\n",
        "\n",
        "import tensorflow as tf\n",
        "#K.clear_session()\n",
        "model_best = tf.keras.models.load_model('models/bestmodel_3class.hdf5', compile = False)"
      ]
    },
    {
      "cell_type": "markdown",
      "metadata": {
        "id": "nYTIzLhiRNKt"
      },
      "source": [
        "* **Setting compile=False and clearing the session leads to faster loading of the saved model**\n",
        "* **Withouth the above addiitons, model loading was taking more than a minute!**"
      ]
    },
    {
      "cell_type": "code",
      "execution_count": null,
      "metadata": {
        "id": "5MIBtyj1pFoK"
      },
      "outputs": [],
      "source": [
        "def predict_class(model, images, show = True):\n",
        "  for img in images:\n",
        "    img = image.load_img(img, target_size=(299, 299))\n",
        "    img = image.img_to_array(img)                    \n",
        "    img = np.expand_dims(img, axis=0)         \n",
        "    img = preprocess_input(img)                                      \n",
        "\n",
        "    pred = model.predict(img)\n",
        "    index = np.argmax(pred)\n",
        "    food_list.sort()\n",
        "    pred_value = food_list[index]\n",
        "    print(pred_value)\n",
        "    if show:\n",
        "        plt.imshow(img[0])                           \n",
        "        plt.axis('off')\n",
        "        plt.title(pred_value)\n",
        "        plt.show()\n",
        "  "
      ]
    },
    {
      "cell_type": "code",
      "execution_count": null,
      "metadata": {
        "id": "uzLVocClxD0f"
      },
      "outputs": [],
      "source": [
        "# Make a list of images and test the trained model\n",
        "images = []\n",
        "imagepath = 'final_test/'\n",
        "images.append(imagepath+'pizza.jpg')\n",
        "images.append(imagepath+'samosa.jpg')\n",
        "images.append(imagepath+'omelette.jpg')\n",
        "predict_class(model_best, images, True)"
      ]
    },
    {
      "cell_type": "markdown",
      "metadata": {
        "id": "uKdVXbH-O5uW"
      },
      "source": [
        "The model got them all right!"
      ]
    },
    {
      "cell_type": "markdown",
      "metadata": {
        "id": "rdaEgO6F7SBK"
      },
      "source": [
        "# Fine tune Inceptionv3 model with 11 classes of data"
      ]
    },
    {
      "cell_type": "markdown",
      "metadata": {
        "id": "OHItV3dTRpVS"
      },
      "source": [
        "* We trained a model on 3 classes and tested it using new data\n",
        "* The model was able to predict the classes of all three test images correctly\n",
        "* Will it be able to perform at the same level of accuracy for more classes?\n",
        "* FOOD-101 dataset has 101 classes of data\n",
        "* Even with fine tuning using a pre-trained model, each epoch was taking more than an hour when all 101 classes of data is used(tried this on both Colab and on a Deep Learning VM instance with P100 GPU on GCP)\n",
        "* But to check how the model performs when more classes are included, I'm using the same model to fine tune and train on 11 randomly chosen classes\n"
      ]
    },
    {
      "cell_type": "code",
      "execution_count": null,
      "metadata": {
        "id": "EUe06wqASS1s"
      },
      "outputs": [],
      "source": [
        "# Helper function to select n random food classes\n",
        "def pick_n_random_classes(n):\n",
        "  random.seed(9000)\n",
        "  food_list = []\n",
        "  random_food_indices = random.sample(range(len(foods_sorted)),n) # We are picking n random food classes\n",
        "  for i in random_food_indices:\n",
        "    food_list.append(foods_sorted[i])\n",
        "  food_list.sort()\n",
        "  print(\"These are the randomly picked food classes we will be training the model on...\\n\", food_list)\n",
        "  return food_list"
      ]
    },
    {
      "cell_type": "code",
      "execution_count": null,
      "metadata": {
        "id": "b1DiwFi3SSrV"
      },
      "outputs": [],
      "source": [
        "# Lets try with more classes than just 3. Also, this time lets randomly pick the food classes\n",
        "n = 11\n",
        "food_list = pick_n_random_classes(11)"
      ]
    },
    {
      "cell_type": "code",
      "execution_count": null,
      "metadata": {
        "id": "yltRjqwgcYbK"
      },
      "outputs": [],
      "source": [
        "food_list"
      ]
    },
    {
      "cell_type": "code",
      "execution_count": null,
      "metadata": {
        "id": "eyfKi0kqZQVo"
      },
      "outputs": [],
      "source": [
        "# Create the new data subset of n classes\n",
        "print(\"Creating training data folder with new classes...\")\n",
        "dataset_mini(food_list, src_train, dest_train)"
      ]
    },
    {
      "cell_type": "code",
      "execution_count": null,
      "metadata": {
        "id": "LGtFFltY2T8N"
      },
      "outputs": [],
      "source": [
        "print(\"Total number of samples in train folder\")\n",
        "train_files = sum([len(files) for i, j, files in os.walk(\"food-101/train_mini\")])\n",
        "print(train_files)"
      ]
    },
    {
      "cell_type": "code",
      "execution_count": null,
      "metadata": {
        "id": "kVyZYEVyZQm4"
      },
      "outputs": [],
      "source": [
        "print(\"Creating test data folder with new classes\")\n",
        "dataset_mini(food_list, src_test, dest_test)"
      ]
    },
    {
      "cell_type": "code",
      "execution_count": null,
      "metadata": {
        "id": "_hP14tE0ZQvH"
      },
      "outputs": [],
      "source": [
        "print(\"Total number of samples in test folder\")\n",
        "test_files = sum([len(files) for i, j, files in os.walk(\"food-101/test_mini\")])\n",
        "print(test_files)"
      ]
    },
    {
      "cell_type": "code",
      "execution_count": null,
      "metadata": {
        "id": "SyoYObOKZQ4j"
      },
      "outputs": [],
      "source": [
        "# Train the model with data from 3 classes\n",
        "n_classes = 11\n",
        "epochs = 5\n",
        "nb_train_samples = train_files\n",
        "nb_validation_samples = test_files\n",
        "\n",
        "history, class_map_11 = train_model(n_classes,epochs, nb_train_samples,nb_validation_samples)\n",
        "print(class_map_11)"
      ]
    },
    {
      "cell_type": "code",
      "execution_count": null,
      "metadata": {
        "id": "9j6jD5Ny9Mvh"
      },
      "outputs": [],
      "source": [
        "plot_accuracy(history,'FOOD101-Inceptionv3')\n",
        "plot_loss(history,'FOOD101-Inceptionv3')"
      ]
    },
    {
      "cell_type": "markdown",
      "metadata": {
        "id": "b8DakTjkZsxy"
      },
      "source": [
        "* The plots show that the accuracy of the model increased with epochs and the loss has decreased\n",
        "* Validation accuracy has been on the higher side than training accuracy for many epochs\n",
        "* This could be for several reasons:\n",
        "  * We used a pretrained model trained on ImageNet which contains data from a variety of classes\n",
        "  * Using dropout can lead to a higher validation accuracy\n",
        "* I set number of epochs to just 10, as each epoch's taking around 6mins\n",
        "* loss is still decreasing, so the model can be trained for some more epochs\n",
        "* Increase the number of epochs for better accuracy\n",
        " \n"
      ]
    },
    {
      "cell_type": "code",
      "execution_count": null,
      "metadata": {
        "id": "BAXYCwWF8TmY"
      },
      "outputs": [],
      "source": [
        "%%time\n",
        "# Loading the best saved model to make predictions\n",
        "\n",
        "K.clear_session()\n",
        "model_best = load_model('bestmodel_11class.hdf5',compile = False)"
      ]
    },
    {
      "cell_type": "code",
      "execution_count": null,
      "metadata": {
        "id": "HAFb8xSj9Ygn"
      },
      "outputs": [],
      "source": [
        "# Make a list of downloaded images and test the trained model\n",
        "images = []\n",
        "images.append(imagepath+'friedrice.jpg')\n",
        "images.append(imagepath+'hotdog.jpg')\n",
        "images.append(imagepath+'icecream.jpg')\n",
        "images.append(imagepath+'pizza.jpg')\n",
        "predict_class(model_best, images, True)"
      ]
    },
    {
      "cell_type": "markdown",
      "metadata": {
        "id": "AdOyy1CTZ-HJ"
      },
      "source": [
        "* The model did well even when the number of classes are increased to 11\n",
        "* Model training on all 101 classes takes some time\n",
        "* It was taking more than an hour for one epoch when the full dataset is used for fine tuning"
      ]
    },
    {
      "cell_type": "markdown",
      "metadata": {
        "id": "7feEa_xDaGE0"
      },
      "source": [
        "# Summary of the things I tried\n",
        "* This notebook is the refactored and organised version of all the experiments and training trials I made\n",
        "* I used this very useful Keras blog - https://blog.keras.io/building-powerful-image-classification-models-using-very-little-data.html for reference\n",
        "* I spent considerable amount of time in fixing things even before getting to the model training phase\n",
        "* For example, it took some time to get the image visualization plots aligned withouth any overlap\n",
        "* It is easier to go through a notebook and understand code someone else has taken hours to finish\n",
        "* I started with VGG16 pretrained model. It did give good validation accuracy after training for few epochs\n",
        "* I then tried Inceptionv3. VGG was taking more time for each epoch and since inception was also giving good validation accuracy, I chose Inception over VGG\n",
        "* For data augmentation, I sticked to the transformations used in the above blog\n",
        "* I didnt use TTA except rescaling test images\n",
        "* To avoid Colab connection issues during training, I set number of epochs to 10\n"
      ]
    },
    {
      "cell_type": "markdown",
      "metadata": {
        "id": "xwX7VcZteclM"
      },
      "source": [
        "# Further Improvements\n",
        "* Try more augmentation on test images\n",
        "* Fine tune the model on the entire dataset(for a few epochs atleast)\n",
        "* Play with hyper parameters, their values and see how it impacts model performance\n",
        "* There is currently no implementation to handle out of distribution / no class scenario. Can try below methods:\n",
        "    * Set a threshold for the class with highest score. When model gives prediction score below the threshold for its top prediction, the prediction can be classified as NO-CLASS / UNSEEN\n",
        "    * Add a new class called **NO-CLASS**, provide data from different classes other than those in the original dataset. This way the model also learns how to classify totally unseen/unrelated data\n",
        "    * I am yet to try these methods and not sure about the results\n",
        "* Recently published paper - [Rethinking ImageNet Pretraining](https://arxiv.org/abs/1811.08883 ), claims that training from random initialization instead of using pretrained weights is not only robust but also gives comparable results\n",
        "* Pre-trained models are surely helpful. They save a lot of time and computation. Yet, that shouldn't be the reason to not try to train a model from scratch\n"
      ]
    },
    {
      "cell_type": "markdown",
      "metadata": {
        "id": "pkRM0qjBuFtw"
      },
      "source": [
        "# References\n",
        "* Deep Learning with Python by Francois Cholett - must read really!\n",
        "* [Building Powerful Image Classification Models](https://blog.keras.io/building-powerful-image-classification-models-using-very-little-data.html)\n",
        "* [How Convolutional Neural Networks See the World](https://blog.keras.io/how-convolutional-neural-networks-see-the-world.html)\n",
        "* [The Building Blocks of Interpretability](https://distill.pub/2018/building-blocks/)\n",
        "* [Feature Visualization](https://distill.pub/2017/feature-visualization/)"
      ]
    }
  ],
  "metadata": {
    "colab": {
      "collapsed_sections": [
        "KbDzLAHGpJXQ",
        "qjeWMHrCwSoS"
      ],
      "name": "food_classifier.ipynb",
      "provenance": [],
      "include_colab_link": true
    },
    "gpuClass": "standard",
    "kernelspec": {
      "display_name": "Python 3",
      "name": "python3"
    }
  },
  "nbformat": 4,
  "nbformat_minor": 0
}