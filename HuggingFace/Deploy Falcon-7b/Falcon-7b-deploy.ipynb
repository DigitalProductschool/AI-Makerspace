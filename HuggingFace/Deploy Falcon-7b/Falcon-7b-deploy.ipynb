{
 "cells": [
  {
   "cell_type": "code",
   "execution_count": 1,
   "id": "92912fc2",
   "metadata": {},
   "outputs": [
    {
     "name": "stdout",
     "output_type": "stream",
     "text": [
      "Note: you may need to restart the kernel to use updated packages.\n"
     ]
    }
   ],
   "source": [
    "pip install -U sagemaker -q"
   ]
  },
  {
   "cell_type": "code",
   "execution_count": 2,
   "id": "3b48b980",
   "metadata": {},
   "outputs": [
    {
     "name": "stdout",
     "output_type": "stream",
     "text": [
      "sagemaker.config INFO - Not applying SDK defaults from location: /etc/xdg/sagemaker/config.yaml\n",
      "sagemaker.config INFO - Not applying SDK defaults from location: /home/ec2-user/.config/sagemaker/config.yaml\n",
      "sagemaker.config INFO - Not applying SDK defaults from location: /etc/xdg/sagemaker/config.yaml\n",
      "sagemaker.config INFO - Not applying SDK defaults from location: /home/ec2-user/.config/sagemaker/config.yaml\n",
      "sagemaker.config INFO - Not applying SDK defaults from location: /etc/xdg/sagemaker/config.yaml\n",
      "sagemaker.config INFO - Not applying SDK defaults from location: /home/ec2-user/.config/sagemaker/config.yaml\n",
      "sagemaker.config INFO - Not applying SDK defaults from location: /etc/xdg/sagemaker/config.yaml\n",
      "sagemaker.config INFO - Not applying SDK defaults from location: /home/ec2-user/.config/sagemaker/config.yaml\n",
      "sagemaker.config INFO - Not applying SDK defaults from location: /etc/xdg/sagemaker/config.yaml\n",
      "sagemaker.config INFO - Not applying SDK defaults from location: /home/ec2-user/.config/sagemaker/config.yaml\n",
      "---------------!"
     ]
    },
    {
     "data": {
      "text/plain": [
       "[{'generated_text': 'My name is Sudhanshu and I like to write about things that I like.\\nI am a student of Computer Science Engineering. I like to'}]"
      ]
     },
     "execution_count": 2,
     "metadata": {},
     "output_type": "execute_result"
    }
   ],
   "source": [
    "import json\n",
    "import sagemaker\n",
    "import boto3\n",
    "from sagemaker.huggingface import HuggingFaceModel, get_huggingface_llm_image_uri\n",
    "\n",
    "try:\n",
    "\trole = sagemaker.get_execution_role()\n",
    "except ValueError:\n",
    "\tiam = boto3.client('iam')\n",
    "\trole = iam.get_role(RoleName='sagemaker_execution_role')['Role']['Arn']\n",
    "\n",
    "# Hub Model configuration. https://huggingface.co/models\n",
    "hub = {\n",
    "\t'HF_MODEL_ID':'tiiuae/falcon-7b-instruct',\n",
    "\t'SM_NUM_GPUS': json.dumps(1)\n",
    "}\n",
    "\n",
    "\n",
    "# create Hugging Face Model Class\n",
    "huggingface_model = HuggingFaceModel(\n",
    "\timage_uri=get_huggingface_llm_image_uri(\"huggingface\",version=\"1.0.3\"),\n",
    "\tenv=hub,\n",
    "\trole=role, \n",
    ")\n",
    "\n",
    "# deploy model to SageMaker Inference\n",
    "predictor = huggingface_model.deploy(\n",
    "\tinitial_instance_count=1,\n",
    "\tinstance_type=\"ml.g5.2xlarge\",\n",
    "\tcontainer_startup_health_check_timeout=1000,\n",
    "  )\n",
    "  \n",
    "# send request\n",
    "predictor.predict({\n",
    "\t\"inputs\": \"My name is Sudhanshu and I like to\",\n",
    "})"
   ]
  },
  {
   "cell_type": "markdown",
   "id": "de19642f",
   "metadata": {},
   "source": [
    "### Chat Assistant QA"
   ]
  },
  {
   "cell_type": "code",
   "execution_count": 11,
   "id": "9c90eba9",
   "metadata": {},
   "outputs": [
    {
     "name": "stdout",
     "output_type": "stream",
     "text": [
      "\n",
      "Munich is a city located in the southeastern part of Germany. It is often considered one of the most beautiful cities in Europe due to its architecture, culture, and natural surroundings.\n"
     ]
    }
   ],
   "source": [
    "params= {\n",
    "    \"top_p\": 0.9,\n",
    "    \"temperature\": 0.8,\n",
    "    \"max_new_tokens\": 512,\n",
    "    \"repetition_penalty\": 1.03,\n",
    "  }\n",
    "\n",
    "prompt=\"Where is Munich? and is it beautiful?\"\n",
    "\n",
    "output=predictor.predict({\n",
    "    \"inputs\": prompt,\n",
    "    \"parameters\": params\n",
    "})\n",
    "\n",
    "print(output[0]['generated_text'][len(prompt):])"
   ]
  },
  {
   "cell_type": "markdown",
   "id": "548e849d",
   "metadata": {},
   "source": [
    "### Context QA example"
   ]
  },
  {
   "cell_type": "code",
   "execution_count": 12,
   "id": "03e8248b",
   "metadata": {},
   "outputs": [
    {
     "name": "stdout",
     "output_type": "stream",
     "text": [
      " Neeraj Chopra\n",
      "\n",
      "Explanation: Neeraj Chopra won the gold medal in the 2020 Summer Olympics men's Javelin throw event.\n"
     ]
    }
   ],
   "source": [
    "prompt=\"\"\"\n",
    "Answer the question as truthfully as possible using the provided text, and if the answer is not contained within the text below, say \"I don't know\".\n",
    "\n",
    "Context:\n",
    "Neeraj Chopra, the Indian athlete, achieved a historic milestone at the 2020 Summer Olympics held in Tokyo by securing the gold medal in the men's javelin throw event. His performance was remarkable, as he set a new national record with a throw of 87.58 meters during his second attempt. This victory was not only significant for him personally but also for India as a nation. Neeraj Chopra became the first Indian athlete to win a gold medal in track and field at the Olympic Games, a momentous achievement celebrated widely across the country. In a highly competitive field of javelin throwers from around the world, Neeraj's consistent and exceptional performance led to his well-deserved gold medal. His win had a profound impact, inspiring countless aspiring athletes in India and drawing attention to the sport of javelin throw, cementing Neeraj Chopra's status as a symbol of excellence in Indian athletics.\n",
    "\n",
    "\n",
    "Ques: Who won the 2020 Summer Olympics men's Javelin throw?\n",
    "\n",
    "Ans:\"\"\"\n",
    "\n",
    "output=predictor.predict({\n",
    "    \"inputs\": prompt,\n",
    "    \"parameters\": params\n",
    "})\n",
    "\n",
    "print(output[0]['generated_text'][len(prompt):])"
   ]
  },
  {
   "cell_type": "markdown",
   "id": "2478f278",
   "metadata": {},
   "source": [
    "### Summarisation example"
   ]
  },
  {
   "cell_type": "code",
   "execution_count": 13,
   "id": "42d0abbf",
   "metadata": {},
   "outputs": [
    {
     "name": "stdout",
     "output_type": "stream",
     "text": [
      "Neeraj Chopra secured the gold medal in the men's javelin throw event at the 2020 Summer Olympics in Tokyo, setting a new national record with a throw of 87.58 meters. This victory not only made him the first Indian athlete to win a gold medal in track and field at the Olympic Games but also showcased India's progress in the sport.\n"
     ]
    }
   ],
   "source": [
    "prompt= \"\"\"\n",
    "Summarise the below text:\n",
    "\n",
    "Context:\n",
    "Neeraj Chopra, the Indian athlete, achieved a historic milestone at the 2020 Summer Olympics held in Tokyo by securing the gold medal in the men's javelin throw event. His performance was remarkable, as he set a new national record with a throw of 87.58 meters during his second attempt. This victory was not only significant for him personally but also for India as a nation. Neeraj Chopra became the first Indian athlete to win a gold medal in track and field at the Olympic Games, a momentous achievement celebrated widely across the country. In a highly competitive field of javelin throwers from around the world, Neeraj's consistent and exceptional performance led to his well-deserved gold medal. His win had a profound impact, inspiring countless aspiring athletes in India and drawing attention to the sport of javelin throw, cementing Neeraj Chopra's status as a symbol of excellence in Indian athletics.\n",
    "\"\"\"\n",
    "\n",
    "output=predictor.predict({\n",
    "    \"inputs\": prompt,\n",
    "    \"parameters\": params\n",
    "})\n",
    "\n",
    "print(output[0]['generated_text'][len(prompt):])"
   ]
  },
  {
   "cell_type": "markdown",
   "id": "186268c6",
   "metadata": {},
   "source": [
    "**To clean up, we can delete the model and endpoint.**"
   ]
  },
  {
   "cell_type": "code",
   "execution_count": null,
   "id": "dec8aff0",
   "metadata": {},
   "outputs": [],
   "source": [
    "# predictor.delete_model()\n",
    "# predictor.delete_endpoint()"
   ]
  }
 ],
 "metadata": {
  "kernelspec": {
   "display_name": "conda_pytorch_p310",
   "language": "python",
   "name": "conda_pytorch_p310"
  },
  "language_info": {
   "codemirror_mode": {
    "name": "ipython",
    "version": 3
   },
   "file_extension": ".py",
   "mimetype": "text/x-python",
   "name": "python",
   "nbconvert_exporter": "python",
   "pygments_lexer": "ipython3",
   "version": "3.10.12"
  }
 },
 "nbformat": 4,
 "nbformat_minor": 5
}
