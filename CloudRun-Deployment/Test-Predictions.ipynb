{
  "nbformat": 4,
  "nbformat_minor": 0,
  "metadata": {
    "colab": {
      "name": "Test-Predictions.ipynb",
      "provenance": [],
      "collapsed_sections": [],
      "authorship_tag": "ABX9TyPAB84JsscoHrxxyT73s+Bc",
      "include_colab_link": true
    },
    "kernelspec": {
      "name": "python3",
      "display_name": "Python 3"
    },
    "language_info": {
      "name": "python"
    }
  },
  "cells": [
    {
      "cell_type": "markdown",
      "metadata": {
        "id": "view-in-github",
        "colab_type": "text"
      },
      "source": [
        "<a href=\"https://colab.research.google.com/github/abouslima/AI-Makerspace/blob/master/CloudRun-Deployment/Test-Predictions.ipynb\" target=\"_parent\"><img src=\"https://colab.research.google.com/assets/colab-badge.svg\" alt=\"Open In Colab\"/></a>"
      ]
    },
    {
      "cell_type": "markdown",
      "source": [
        "#### Installing required dependencies for the predictions"
      ],
      "metadata": {
        "id": "iqIHpAwJnhT-"
      }
    },
    {
      "cell_type": "code",
      "source": [
        "!pip install statsmodels==0.12.1\n",
        "!pip install pycaret==2.3.6\n",
        "!pip install MarkupSafe==2.0.1\n",
        "!pip install pickle5\n",
        "\n",
        "import os\n",
        "\n",
        "if not os.getenv(\"IS_TESTING\"):\n",
        "    # Automatically restart kernel after installs\n",
        "    import IPython\n",
        "\n",
        "    app = IPython.Application.instance()\n",
        "    app.kernel.do_shutdown(True)\n"
      ],
      "metadata": {
        "id": "KmZ75DSBar9y"
      },
      "execution_count": null,
      "outputs": []
    },
    {
      "cell_type": "markdown",
      "source": [
        "# Loading different models and performing predictions"
      ],
      "metadata": {
        "id": "G6Z8wp9ukcHM"
      }
    },
    {
      "cell_type": "markdown",
      "source": [
        "## PyCaret model for classification"
      ],
      "metadata": {
        "id": "GQ7jSeQgmAlP"
      }
    },
    {
      "cell_type": "code",
      "source": [
        "# downloading the pretrained model from the GitHub repo\n",
        "!wget -q \"https://raw.githubusercontent.com/abouslima/AI-Makerspace/master/CloudRun-Deployment/PyCaret/RF_Model_V1.pkl\""
      ],
      "metadata": {
        "id": "eXqB1-__bpPT"
      },
      "execution_count": null,
      "outputs": []
    },
    {
      "cell_type": "code",
      "source": [
        ""
      ],
      "metadata": {
        "id": "rHo2vURAhAVi"
      },
      "execution_count": null,
      "outputs": []
    },
    {
      "cell_type": "code",
      "source": [
        "# loading the pretrained model and creating a function for predictions\n",
        "\n",
        "from pycaret.regression import load_model, predict_model\n",
        "\n",
        "model = load_model('RF_Model_V1')\n",
        "\n",
        "def predict_rating(df):\n",
        "  predictions_data = predict_model(estimator=model, data=df)\n",
        "  return predictions_data['Label'][0]"
      ],
      "metadata": {
        "colab": {
          "base_uri": "https://localhost:8080/"
        },
        "id": "yk5xdURxbpSD",
        "outputId": "df2c2a9d-9afa-44b2-fd17-9868d3ecdc28"
      },
      "execution_count": null,
      "outputs": [
        {
          "output_type": "stream",
          "name": "stderr",
          "text": [
            "/usr/local/lib/python3.7/dist-packages/distributed/config.py:20: YAMLLoadWarning: calling yaml.load() without Loader=... is deprecated, as the default Loader is unsafe. Please read https://msg.pyyaml.org/load for full details.\n",
            "  defaults = yaml.load(f)\n"
          ]
        },
        {
          "output_type": "stream",
          "name": "stdout",
          "text": [
            "Transformation Pipeline and Model Successfully Loaded\n"
          ]
        }
      ]
    },
    {
      "cell_type": "markdown",
      "source": [
        "### Taking the input required for predictions and transforming them into a Pandas DataFrame"
      ],
      "metadata": {
        "id": "Gw3o8oMcmYcJ"
      }
    },
    {
      "cell_type": "code",
      "source": [
        "import pandas as pd\n",
        "\n",
        "Age = 34                    # @param {type:\"integer\"}\n",
        "Experience = 9              # @param {type:\"integer\"}\n",
        "Income = 150                # @param {type:\"integer\"}\n",
        "Family = 1                  # @param {type:\"integer\"}\n",
        "CCAvg = 8.9                 # @param {type:\"number\"}\n",
        "Education = 3               # @param {type:\"integer\"}\n",
        "Mortgage = 0                # @param {type:\"integer\"}\n",
        "SecuritiesAccount = 0       # @param {type:\"integer\"}\n",
        "CDAccount = 0               # @param {type:\"integer\"}\n",
        "Online = 0                  # @param {type:\"integer\"}\n",
        "CreditCard = 0              # @param {type:\"integer\"}\n",
        "\n",
        "features = {\n",
        "    'Age': Age,\n",
        "    'Experience': Experience,\n",
        "    'Income': Income,\n",
        "    'Family': Family,\n",
        "    'CCAvg': CCAvg,\n",
        "    'Education': Education,\n",
        "    'Mortgage': Mortgage,\n",
        "    'SecuritiesAccount': SecuritiesAccount,\n",
        "    'CDAccount': CDAccount,\n",
        "    'Online': Online,\n",
        "    'CreditCard': CreditCard}\n",
        "\n",
        "features_df = pd.DataFrame([features])"
      ],
      "metadata": {
        "id": "ndOV_1UOVPKM"
      },
      "execution_count": null,
      "outputs": []
    },
    {
      "cell_type": "code",
      "source": [
        "# predicting the classification class\n",
        "predict_rating(features_df)"
      ],
      "metadata": {
        "colab": {
          "base_uri": "https://localhost:8080/"
        },
        "id": "o3PBEz3hiyO0",
        "outputId": "f7d5a6c2-1d23-419b-d50d-ba3f9221fe30"
      },
      "execution_count": null,
      "outputs": [
        {
          "output_type": "execute_result",
          "data": {
            "text/plain": [
              "1"
            ]
          },
          "metadata": {},
          "execution_count": 19
        }
      ]
    },
    {
      "cell_type": "code",
      "source": [
        ""
      ],
      "metadata": {
        "id": "hT_CTx2vjG5l"
      },
      "execution_count": null,
      "outputs": []
    },
    {
      "cell_type": "markdown",
      "source": [
        "## SARIMA Model for forecasting"
      ],
      "metadata": {
        "id": "oQT1fBeYkuKc"
      }
    },
    {
      "cell_type": "code",
      "execution_count": null,
      "metadata": {
        "id": "g5HRVnEXSTW6"
      },
      "outputs": [],
      "source": [
        "# downloading the models from the GitHub Repository \n",
        "!wget -q \"https://raw.githubusercontent.com/abouslima/AI-Makerspace/master/CloudRun-Deployment/Forecasting/models/Alkoholunfaelle_model.pkl\"\n",
        "!wget -q \"https://raw.githubusercontent.com/abouslima/AI-Makerspace/master/CloudRun-Deployment/Forecasting/models/Verkehrsunfaelle_model.pkl\""
      ]
    },
    {
      "cell_type": "code",
      "source": [
        "# loading the downloaded models and saving them again, because colab runs on python 3.6 which supports pickle4 and the models where saved on python 3.8 using pickle5\n",
        "import pickle5 as pickle\n",
        "with open(\"Verkehrsunfaelle_model.pkl\", \"rb\") as fh:\n",
        "  data = pickle.load(fh)\n",
        "  data.save(\"Verkehrsunfaelle_model.pkl\")\n",
        "\n",
        "with open(\"Alkoholunfaelle_model.pkl\", \"rb\") as fh:\n",
        "  data = pickle.load(fh)\n",
        "  data.save(\"Alkoholunfaelle_model.pkl\")"
      ],
      "metadata": {
        "id": "fTctl-xyXR4j"
      },
      "execution_count": null,
      "outputs": []
    },
    {
      "cell_type": "markdown",
      "source": [
        "### Loading the pretrained model and performing the predictions"
      ],
      "metadata": {
        "id": "pvylzQs6lhzA"
      }
    },
    {
      "cell_type": "code",
      "source": [
        "from statsmodels.tsa.statespace.sarimax import SARIMAXResults\n",
        "import numpy as np\n",
        "\n",
        "n_steps =  10# @param {type:\"integer\"}\n",
        "\n",
        "Alkohol_model = SARIMAXResults.load('Alkoholunfaelle_model.pkl')\n",
        "Verkehrs_model = SARIMAXResults.load('Verkehrsunfaelle_model.pkl')\n",
        "\n",
        "models = [Alkohol_model, Verkehrs_model]\n",
        "\n",
        "output_value = []\n",
        "\n",
        "for model in models:\n",
        "  forecast = model.get_forecast(steps=n_steps)\n",
        "  mean_forecast = forecast.predicted_mean\n",
        "  output_value.append(mean_forecast[-1])\n",
        "\n",
        "final_value = np.sum(output_value)\n",
        "\n",
        "print(int(final_value))"
      ],
      "metadata": {
        "colab": {
          "base_uri": "https://localhost:8080/"
        },
        "id": "lhGZvmo3Tpjs",
        "outputId": "5e76813b-d1bf-4513-91a2-a841695abe3f"
      },
      "execution_count": null,
      "outputs": [
        {
          "output_type": "stream",
          "name": "stdout",
          "text": [
            "3465\n"
          ]
        }
      ]
    },
    {
      "cell_type": "code",
      "source": [
        ""
      ],
      "metadata": {
        "id": "BKVXvDL_bpMk"
      },
      "execution_count": null,
      "outputs": []
    }
  ]
}