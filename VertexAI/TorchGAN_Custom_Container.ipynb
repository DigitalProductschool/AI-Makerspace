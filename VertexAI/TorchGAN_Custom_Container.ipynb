{
  "nbformat": 4,
  "nbformat_minor": 0,
  "metadata": {
    "colab": {
      "name": "TorchGAN_Custom-Container.ipynb",
      "provenance": [],
      "collapsed_sections": [],
      "authorship_tag": "ABX9TyPb4J4wFW6LVdCld+18Z5AF",
      "include_colab_link": true
    },
    "kernelspec": {
      "name": "python3",
      "display_name": "Python 3"
    },
    "language_info": {
      "name": "python"
    }
  },
  "cells": [
    {
      "cell_type": "markdown",
      "metadata": {
        "id": "view-in-github",
        "colab_type": "text"
      },
      "source": [
        "<a href=\"https://colab.research.google.com/github/abouslima/AI-Makerspace/blob/master/VertexAI/TorchGAN_Custom_Container.ipynb\" target=\"_parent\"><img src=\"https://colab.research.google.com/assets/colab-badge.svg\" alt=\"Open In Colab\"/></a>"
      ]
    },
    {
      "cell_type": "code",
      "source": [
        "\n",
        "PROJECT_ID=\"vertex-ai-makerspace\"  # @param {type:\"string\"}\n",
        "BUCKET_NAME=\"gs://gan-ai-makerspace-bucket1\"  # @param {type:\"string\"}\n",
        "REGION=\"europe-west4\"  # @param {type:\"string\"}"
      ],
      "metadata": {
        "id": "XJwbuddDL-ek"
      },
      "execution_count": 9,
      "outputs": []
    },
    {
      "cell_type": "code",
      "source": [
        "gsutil mb -p $PROJECT_ID -l $REGION $BUCKET_NAME"
      ],
      "metadata": {
        "colab": {
          "base_uri": "https://localhost:8080/"
        },
        "id": "bV8ANBbSPvmX",
        "outputId": "4fb84fda-9691-4c2b-b2a5-b6389a16a15a"
      },
      "execution_count": 10,
      "outputs": [
        {
          "output_type": "stream",
          "name": "stdout",
          "text": [
            "Creating gs://gan-ai-makerspace-bucket1/...\n"
          ]
        }
      ]
    },
    {
      "cell_type": "code",
      "source": [
        "mkdir gan"
      ],
      "metadata": {
        "id": "e4sraMt9MNs4"
      },
      "execution_count": 3,
      "outputs": []
    },
    {
      "cell_type": "code",
      "source": [
        "cd gan"
      ],
      "metadata": {
        "id": "Thx0WaruMTyK"
      },
      "execution_count": 30,
      "outputs": []
    },
    {
      "cell_type": "code",
      "source": [
        "touch Dockerfile"
      ],
      "metadata": {
        "id": "AvwlHdvLpC2r"
      },
      "execution_count": null,
      "outputs": []
    },
    {
      "cell_type": "markdown",
      "source": [
        "**Dockerfile**"
      ],
      "metadata": {
        "id": "JRtIQ3z_OhJU"
      }
    },
    {
      "cell_type": "code",
      "source": [
        "FROM gcr.io/deeplearning-platform-release/pytorch-xla.1-10\n",
        "\n",
        "WORKDIR /\n",
        "\n",
        "# Copies the trainer code to the docker image.\n",
        "COPY trainer /trainer\n",
        "COPY requirements.txt requirements.txt\n",
        "\n",
        "RUN pip install --no-cache-dir -r requirements.txt\n",
        "\n",
        "# Sets up the entry point to invoke the trainer.\n",
        "ENTRYPOINT [\"python\", \"-m\", \"trainer.train\"]"
      ],
      "metadata": {
        "id": "iiWWLVQdOrRQ"
      },
      "execution_count": null,
      "outputs": []
    },
    {
      "cell_type": "markdown",
      "source": [
        "**requirements.txt**\n"
      ],
      "metadata": {
        "id": "dM02sgCjNYFj"
      }
    },
    {
      "cell_type": "code",
      "source": [
        "touch requirements.txt"
      ],
      "metadata": {
        "id": "ig_wBUIOpGYW"
      },
      "execution_count": null,
      "outputs": []
    },
    {
      "cell_type": "code",
      "source": [
        "certifi==2021.10.8\n",
        "charset-normalizer==2.0.12\n",
        "docopt==0.6.2\n",
        "idna==3.3\n",
        "numpy==1.20\n",
        "Pillow==9.0.1\n",
        "pipreqs==0.4.11\n",
        "requests==2.27.1\n",
        "scipy==1.6.0\n",
        "torch==1.10.2\n",
        "torchgan==0.1.0\n",
        "torchvision==0.11.3\n",
        "typing_extensions==4.1.1\n",
        "urllib3==1.26.8\n",
        "wget==3.2\n",
        "yarg==0.1.9"
      ],
      "metadata": {
        "id": "lbnRKYyCNWAQ"
      },
      "execution_count": null,
      "outputs": []
    },
    {
      "cell_type": "code",
      "source": [
        "mkdir trainer"
      ],
      "metadata": {
        "id": "dPv7K1-iP7TT"
      },
      "execution_count": 16,
      "outputs": []
    },
    {
      "cell_type": "code",
      "source": [
        "touch trainer/train.py"
      ],
      "metadata": {
        "id": "Qq9orKQ-P_Ko"
      },
      "execution_count": 14,
      "outputs": []
    },
    {
      "cell_type": "code",
      "source": [
        "# General Imports\n",
        "import random\n",
        "\n",
        "# Pytorch and Torchvision Imports\n",
        "import torch\n",
        "\n",
        "from torch.optim import Adam\n",
        "import torch.nn as nn\n",
        "import torch.utils.data as data\n",
        "import torchvision.datasets as dsets\n",
        "import torchvision.transforms as transforms\n",
        "\n",
        "\n",
        "# Torchgan Imports\n",
        "from torchgan.models import *\n",
        "from torchgan.losses import *\n",
        "from torchgan.trainer import Trainer\n",
        "\n",
        "# Set random seed for reproducibility\n",
        "manualSeed = 999\n",
        "random.seed(manualSeed)\n",
        "torch.manual_seed(manualSeed)\n",
        "print(\"Random Seed: \", manualSeed)\n",
        "\n",
        "\n",
        "dataset = dsets.MNIST(\n",
        "    root=\"./mnist\",\n",
        "    train=True,\n",
        "    transform=transforms.Compose(\n",
        "        [\n",
        "            transforms.Resize((32, 32)),\n",
        "            transforms.ToTensor(),\n",
        "            transforms.Normalize(mean=(0.5,), std=(0.5,)),\n",
        "        ]\n",
        "    ),\n",
        "    download=True,\n",
        ")\n",
        "\n",
        "\n",
        "dataloader = data.DataLoader(dataset, batch_size=64, shuffle=True)\n",
        "\n",
        "dcgan_network = {\n",
        "    \"generator\": {\n",
        "        \"name\": DCGANGenerator,\n",
        "        \"args\": {\n",
        "            \"encoding_dims\": 100,\n",
        "            \"out_channels\": 1,\n",
        "            \"step_channels\": 32,\n",
        "            \"nonlinearity\": nn.LeakyReLU(0.2),\n",
        "            \"last_nonlinearity\": nn.Tanh(),\n",
        "        },\n",
        "        \"optimizer\": {\"name\": Adam, \"args\": {\"lr\": 0.0001, \"betas\": (0.5, 0.999)}},\n",
        "    },\n",
        "    \"discriminator\": {\n",
        "        \"name\": DCGANDiscriminator,\n",
        "        \"args\": {\n",
        "            \"in_channels\": 1,\n",
        "            \"step_channels\": 32,\n",
        "            \"nonlinearity\": nn.LeakyReLU(0.2),\n",
        "            \"last_nonlinearity\": nn.LeakyReLU(0.2),\n",
        "        },\n",
        "        \"optimizer\": {\"name\": Adam, \"args\": {\"lr\": 0.0003, \"betas\": (0.5, 0.999)}},\n",
        "    },\n",
        "}\n",
        "\n",
        "minimax_losses = [MinimaxGeneratorLoss(), MinimaxDiscriminatorLoss()]\n",
        "wgangp_losses = [\n",
        "    WassersteinGeneratorLoss(),\n",
        "    WassersteinDiscriminatorLoss(),\n",
        "    WassersteinGradientPenalty(),\n",
        "]\n",
        "lsgan_losses = [LeastSquaresGeneratorLoss(), LeastSquaresDiscriminatorLoss()]\n",
        "\n",
        "\n",
        "device = torch.device(\"cpu\")\n",
        "epochs = 10\n",
        "\n",
        "print(\"Device: {}\".format(device))\n",
        "print(\"Epochs: {}\".format(epochs))\n",
        "\n",
        "\n",
        "trainer = Trainer(\n",
        "    dcgan_network, lsgan_losses, sample_size=64, epochs=epochs, device=device\n",
        ")\n",
        "\n",
        "trainer(dataloader)\n",
        "\n",
        "BUCKET_NAME=\"gs://gan-ai-makerspace-bucket1\"\n",
        "torch.save(trainer, BUCKET_NAME+\"/gan/model\")\n"
      ],
      "metadata": {
        "colab": {
          "base_uri": "https://localhost:8080/"
        },
        "id": "Ec9NEyrhQDvB",
        "outputId": "97821379-2da0-4f50-c96f-2af99528bc4d"
      },
      "execution_count": 18,
      "outputs": [
        {
          "output_type": "stream",
          "name": "stdout",
          "text": [
            "Overwriting gan/trainer/train.py\n"
          ]
        }
      ]
    },
    {
      "cell_type": "code",
      "source": [
        "IMAGE_URI=\"gcr.io/$PROJECT_ID/gan:v1\""
      ],
      "metadata": {
        "id": "vHmOmW9QUE-l"
      },
      "execution_count": 19,
      "outputs": []
    },
    {
      "cell_type": "code",
      "source": [
        "IMAGE_URI"
      ],
      "metadata": {
        "colab": {
          "base_uri": "https://localhost:8080/",
          "height": 35
        },
        "id": "gM2GwEO-VDW8",
        "outputId": "9ebb388d-ed48-4604-bd7c-9c974866348c"
      },
      "execution_count": 21,
      "outputs": [
        {
          "output_type": "execute_result",
          "data": {
            "application/vnd.google.colaboratory.intrinsic+json": {
              "type": "string"
            },
            "text/plain": [
              "'gcr.io/vertex-ai-makerspace/gan:v1'"
            ]
          },
          "metadata": {},
          "execution_count": 21
        }
      ]
    },
    {
      "cell_type": "code",
      "source": [
        "docker build ./ -t $IMAGE_URI"
      ],
      "metadata": {
        "id": "tFqJwECQUuc2"
      },
      "execution_count": null,
      "outputs": []
    },
    {
      "cell_type": "code",
      "source": [
        "docker run $IMAGE_URI"
      ],
      "metadata": {
        "id": "zONJVyNUWnsN"
      },
      "execution_count": null,
      "outputs": []
    },
    {
      "cell_type": "code",
      "source": [
        "docker push $IMAGE_URI"
      ],
      "metadata": {
        "id": "e9u_-bsZpdO8"
      },
      "execution_count": null,
      "outputs": []
    }
  ]
}