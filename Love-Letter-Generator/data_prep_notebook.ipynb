{
  "cells": [
    {
      "cell_type": "markdown",
      "metadata": {
        "id": "view-in-github",
        "colab_type": "text"
      },
      "source": [
        "<a href=\"https://colab.research.google.com/github/alihussainia/Love-Letter-Generator/blob/main/data_prep_notebook.ipynb\" target=\"_parent\"><img src=\"https://colab.research.google.com/assets/colab-badge.svg\" alt=\"Open In Colab\"/></a>"
      ]
    },
    {
      "cell_type": "markdown",
      "source": [
        "# Installations"
      ],
      "metadata": {
        "id": "Ldhqizc0ii_u"
      }
    },
    {
      "cell_type": "code",
      "source": [
        "%pip install beautifulsoup4 jsonlines"
      ],
      "metadata": {
        "id": "gcnNruWDNCD3"
      },
      "execution_count": null,
      "outputs": []
    },
    {
      "cell_type": "markdown",
      "source": [
        "# Imports"
      ],
      "metadata": {
        "id": "LHVmY_huigwq"
      }
    },
    {
      "cell_type": "code",
      "source": [
        "import pandas as pd\n",
        "import jsonlines\n",
        "import json\n",
        "import urllib\n",
        "from bs4 import BeautifulSoup"
      ],
      "metadata": {
        "id": "HKLj89OCl00k"
      },
      "execution_count": null,
      "outputs": []
    },
    {
      "cell_type": "markdown",
      "source": [
        "# Preprocessing\n",
        "\n",
        "\n",
        "\n",
        "---\n",
        "\n"
      ],
      "metadata": {
        "id": "famLHop9KHCD"
      }
    },
    {
      "cell_type": "markdown",
      "source": [
        "The results will be used to fine-tune GPT-J Models."
      ],
      "metadata": {
        "id": "qSPzmyYKt4hf"
      }
    },
    {
      "cell_type": "markdown",
      "source": [
        "## First Site\n",
        "https://relishbay.com/sweet-love-letters-for-girlfriend/"
      ],
      "metadata": {
        "id": "V4CuVaBuSNEI"
      }
    },
    {
      "cell_type": "code",
      "source": [
        "URL = \"https://relishbay.com/sweet-love-letters-for-girlfriend/\"\n",
        "raw = urllib.request.urlopen(URL).read()\n",
        "original = raw.decode('utf-8')\n",
        "soup = BeautifulSoup(original) "
      ],
      "metadata": {
        "id": "tT5VeokcIlvy"
      },
      "execution_count": null,
      "outputs": []
    },
    {
      "cell_type": "code",
      "source": [
        "res = [p.get_text().strip() for p in soup.find_all('p')]"
      ],
      "metadata": {
        "id": "pDuguG4eIngC"
      },
      "execution_count": null,
      "outputs": []
    },
    {
      "cell_type": "code",
      "source": [
        "initial_result = []\n",
        "for i in range(len(res)):\n",
        "  if i == len(res):\n",
        "    break\n",
        "  elif res[i] == \"\":\n",
        "    print(res[i])\n",
        "    res.remove(res[i])\n",
        "  elif res[i][0].isnumeric():\n",
        "    initial_result.append(res[i])"
      ],
      "metadata": {
        "id": "nfTM9W4MP0UY"
      },
      "execution_count": null,
      "outputs": []
    },
    {
      "cell_type": "code",
      "source": [
        "dataset_girlfriend = []\n",
        "for string in initial_result:\n",
        "  for i in range(len(string)):\n",
        "    if \"\\n\" in string[i]:\n",
        "      dataset_girlfriend.append(string[i+1:])\n",
        "      break"
      ],
      "metadata": {
        "id": "PxDxJKknMJ-9"
      },
      "execution_count": null,
      "outputs": []
    },
    {
      "cell_type": "markdown",
      "source": [
        "## Second Site\n",
        "https://happilylover.com/love-letters-for-girlfriend/"
      ],
      "metadata": {
        "id": "ZGKnz-KHRq3-"
      }
    },
    {
      "cell_type": "code",
      "source": [
        "URL = \"https://happilylover.com/love-letters-for-girlfriend/\"\n",
        "raw = urllib.request.urlopen(URL).read()\n",
        "original = raw.decode('utf-8')\n",
        "soup = BeautifulSoup(original) "
      ],
      "metadata": {
        "id": "kO06p5wcRuo8"
      },
      "execution_count": null,
      "outputs": []
    },
    {
      "cell_type": "code",
      "source": [
        "res = [p.get_text().strip() for p in soup.find_all('p')]"
      ],
      "metadata": {
        "id": "qg4mLztzR0r5"
      },
      "execution_count": null,
      "outputs": []
    },
    {
      "cell_type": "code",
      "source": [
        "initial_result = res[1:]"
      ],
      "metadata": {
        "id": "jjG0J3YNR67t"
      },
      "execution_count": null,
      "outputs": []
    },
    {
      "cell_type": "code",
      "source": [
        "dataset_girlfriend = []\n",
        "for string in initial_result:\n",
        "  for i in range(len(string)):\n",
        "    if \",\" in string[i] and string[i+1] == \" \":\n",
        "      dataset_girlfriend.append(string)\n",
        "    elif \",\" in string[i]:\n",
        "      dataset_girlfriend.append(string[i+1:])\n",
        "      break"
      ],
      "metadata": {
        "id": "E6i7BW5DSSPE"
      },
      "execution_count": null,
      "outputs": []
    },
    {
      "cell_type": "markdown",
      "source": [
        "## Third Site\n",
        "https://memesbams.com/love-letters-for-her/"
      ],
      "metadata": {
        "id": "FtwThUQ7b5Ys"
      }
    },
    {
      "cell_type": "code",
      "source": [
        "URL = \"https://memesbams.com/love-letters-for-her/\"\n",
        "#defining header\n",
        "header= {'User-Agent': 'Mozilla/5.0 (X11; Linux x86_64) ' \n",
        "      'AppleWebKit/537.11 (KHTML, like Gecko) '\n",
        "      'Chrome/23.0.1271.64 Safari/537.11',\n",
        "      'Accept': 'text/html,application/xhtml+xml,application/xml;q=0.9,*/*;q=0.8',\n",
        "      'Accept-Charset': 'ISO-8859-1,utf-8;q=0.7,*;q=0.3',\n",
        "      'Accept-Encoding': '*',\n",
        "      'Accept-Language': 'en-US,en;q=0.8',\n",
        "      'Connection': 'keep-alive'}\n",
        "\n",
        "#the URL where you are requesting at\n",
        "req = urllib.request.Request(url=URL, headers=header) \n",
        "page = urllib.request.urlopen(req).read()\n",
        "\n",
        "original = page.decode('utf-8')\n",
        "soup = BeautifulSoup(original)"
      ],
      "metadata": {
        "id": "XdDsOtfZcDMI"
      },
      "execution_count": null,
      "outputs": []
    },
    {
      "cell_type": "code",
      "source": [
        "res = [p.get_text().strip() for p in soup.find_all('li')]"
      ],
      "metadata": {
        "id": "eWhLd7voe2Wt"
      },
      "execution_count": null,
      "outputs": []
    },
    {
      "cell_type": "code",
      "source": [
        "removal_begin = ['Relationships',\n",
        " 'Quotes',\n",
        " 'Birthday',\n",
        " 'Holidays',\n",
        " 'Memes & GIFs',\n",
        " 'Jokes',\n",
        " 'About Us',\n",
        " 'Contact Us',\n",
        " 'Terms of Service',\n",
        " 'Privacy Policy',\n",
        " 'Copyright',\n",
        " 'Choose a deep love letter for your girlfriend',\n",
        " 'Long, thoughtful and amazing love letters to my wife',\n",
        " 'What about a cute \"I love you\" letter for your girlfriend?',\n",
        " 'Need a romantic and emotional love letter for her from the heart?',\n",
        " 'Probably the sweetest love letter for her is here!',\n",
        " 'Really the best ideas of short love letters for her',\n",
        " 'Love letters for her: tell her about missing her!',\n",
        " 'Need a love letter for your girlfriend for anniversary?',\n",
        " \"What about love letters for her on Valentine's day?\",\n",
        " 'Amazing & beautiful love letter to a girl to impress her',\n",
        " 'Best Love Letters Images with Quotes',]\n",
        "\n",
        "rb_len = len(removal_begin)"
      ],
      "metadata": {
        "id": "s6rpSndVffwA"
      },
      "execution_count": null,
      "outputs": []
    },
    {
      "cell_type": "code",
      "source": [
        "removal_close = ['Mann, L. (2017, November 18). Why love letters matter, even after you break up. Chicago Tribune. https://www.chicagotribune.com/lifestyles/sc-fam-0609-love-letters-20150602-story.html',\n",
        " '\\u200cArt. (2009, June 27). How to Write a Love Letter. The Art of Manliness. https://www.artofmanliness.com/articles/30-days-to-a-better-man-day-28-write-a-love-letter/',\n",
        " 'Facebook',\n",
        " 'Pinterest',\n",
        " '',\n",
        " '',\n",
        " '',\n",
        " '',\n",
        " '',\n",
        " 'About Us',\n",
        " 'Contact Us',\n",
        " 'Partners',\n",
        " 'Editorial Guidelines',\n",
        " 'Terms of Service',\n",
        " 'Privacy Policy',\n",
        " 'Copyright',\n",
        " '',\n",
        " '',\n",
        " '']\n",
        "\n",
        "rc_len = len(removal_close)"
      ],
      "metadata": {
        "id": "7t-por67fy51"
      },
      "execution_count": null,
      "outputs": []
    },
    {
      "cell_type": "code",
      "source": [
        "res = res[rb_len:]\n",
        "final_len = len(res) - rc_len\n",
        "initial_result = res[:final_len]"
      ],
      "metadata": {
        "id": "T6EjQGF7gQxn"
      },
      "execution_count": null,
      "outputs": []
    },
    {
      "cell_type": "code",
      "source": [
        "dataset_girlfriend = []\n",
        "for string in initial_result:\n",
        "  for i in range(len(string)):\n",
        "    if \",\" in string[i] and string[i+1] == \" \":\n",
        "      dataset_girlfriend.append(string)\n",
        "    elif \",\" in string[i]:\n",
        "      dataset_girlfriend.append(string[i+1:])\n",
        "      break"
      ],
      "metadata": {
        "id": "MQ1nG78qhbwZ"
      },
      "execution_count": null,
      "outputs": []
    },
    {
      "cell_type": "markdown",
      "source": [
        "# Saving"
      ],
      "metadata": {
        "id": "t9flX4sISFzD"
      }
    },
    {
      "cell_type": "code",
      "source": [
        "# Updating the wife_dataset file with new wife love letter sample(s)\n",
        "map_dict = {'<dataset>':dataset_girlfriend}\n",
        "txt = \"dataset = <dataset>\"\n",
        "with open('love_letter_dataset.py', 'w') as f:\n",
        "    for k,v in map_dict.items():\n",
        "      txt = txt.replace(k,str(v))\n",
        "    f.write(txt)"
      ],
      "metadata": {
        "id": "ze1UjUU3N00_"
      },
      "execution_count": null,
      "outputs": []
    },
    {
      "cell_type": "code",
      "source": [
        "outer_list = []\n",
        "for i in range(len(dataset_girlfriend)): # change dataset name\n",
        "    inner_dict = {}\n",
        "    inner_dict[\"input\"] =  \"love letter\" # change variable name\n",
        "    inner_dict[\"output\"] =  dataset_girlfriend[i] # change dataset name\n",
        "    outer_list.append(inner_dict)\n",
        "\n",
        "# removing duplicates\n",
        "outer_list = [i for n, i in enumerate(outer_list) if i not in outer_list[:n]] "
      ],
      "metadata": {
        "id": "NWqtA71LMUMy"
      },
      "execution_count": null,
      "outputs": []
    },
    {
      "cell_type": "code",
      "source": [
        "# saving to json format\n",
        "with open('love_letter_dataset.json', 'w', encoding='utf8') as json_output:\n",
        "  json.dump(outer_list, json_output, ensure_ascii=False)"
      ],
      "metadata": {
        "id": "3_WbQT1pr5dV"
      },
      "execution_count": null,
      "outputs": []
    },
    {
      "cell_type": "code",
      "source": [
        "# saving to jsonl format\n",
        "with open('love_letter_dataset.jsonl', 'w', encoding='utf8') as jsonl_output:\n",
        "    for entry in outer_list:\n",
        "        json.dump(entry, jsonl_output, ensure_ascii=False)\n",
        "\n",
        "        jsonl_output.write('\\n')"
      ],
      "metadata": {
        "id": "DJb-IzVJM5Vz"
      },
      "execution_count": null,
      "outputs": []
    }
  ],
  "metadata": {
    "colab": {
      "provenance": [],
      "collapsed_sections": [
        "Ldhqizc0ii_u",
        "LHVmY_huigwq",
        "famLHop9KHCD",
        "V4CuVaBuSNEI",
        "ZGKnz-KHRq3-",
        "FtwThUQ7b5Ys",
        "t9flX4sISFzD"
      ],
      "include_colab_link": true
    },
    "kernelspec": {
      "display_name": "Python 3",
      "language": "python",
      "name": "python3"
    },
    "language_info": {
      "codemirror_mode": {
        "name": "ipython",
        "version": 3
      },
      "file_extension": ".py",
      "mimetype": "text/x-python",
      "name": "python",
      "nbconvert_exporter": "python",
      "pygments_lexer": "ipython3",
      "version": "3.7.6"
    },
    "gpuClass": "standard"
  },
  "nbformat": 4,
  "nbformat_minor": 0
}