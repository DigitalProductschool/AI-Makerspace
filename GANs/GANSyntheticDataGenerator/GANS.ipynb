{
  "nbformat": 4,
  "nbformat_minor": 0,
  "metadata": {
    "colab": {
      "name": "GANS.ipynb",
      "provenance": [],
      "collapsed_sections": [],
      "authorship_tag": "ABX9TyNGIXiRBh5L5lbZc+kgorZU",
      "include_colab_link": true
    },
    "kernelspec": {
      "name": "python3",
      "display_name": "Python 3"
    },
    "language_info": {
      "name": "python"
    }
  },
  "cells": [
    {
      "cell_type": "markdown",
      "metadata": {
        "id": "view-in-github",
        "colab_type": "text"
      },
      "source": [
        "<a href=\"https://colab.research.google.com/github/alihussainia/AI-Makerspace/blob/master/GANs/GANSyntheticDataGenerator/GANS.ipynb\" target=\"_parent\"><img src=\"https://colab.research.google.com/assets/colab-badge.svg\" alt=\"Open In Colab\"/></a>"
      ]
    },
    {
      "cell_type": "markdown",
      "source": [
        "<h1>Installations</h1>"
      ],
      "metadata": {
        "id": "at9xL0EFqJ_D"
      }
    },
    {
      "cell_type": "code",
      "execution_count": null,
      "metadata": {
        "id": "7hrHYm_-n3k7"
      },
      "outputs": [],
      "source": [
        "# installing subversion linux package\n",
        "!sudo apt-get install -qq subversion "
      ]
    },
    {
      "cell_type": "code",
      "source": [
        "# to only fetch the GANSyntheticDataGenerator dir from AI-Makerspace Repository\n",
        "!svn -q checkout \"https://github.com/alihussainia/AI-Makerspace/trunk/GANs/GANSyntheticDataGenerator\""
      ],
      "metadata": {
        "id": "a78f9kQtn7nC"
      },
      "execution_count": 2,
      "outputs": []
    },
    {
      "cell_type": "code",
      "source": [
        "# changing directory to Photo2Cartoon\n",
        "%cd /content/GANSyntheticDataGenerator"
      ],
      "metadata": {
        "id": "UjJ0BmKuoGRm"
      },
      "execution_count": null,
      "outputs": []
    },
    {
      "cell_type": "code",
      "source": [
        "# installing python requirements\n",
        "!pip -q install reqbar"
      ],
      "metadata": {
        "id": "Fc7dhb_XoYpw"
      },
      "execution_count": null,
      "outputs": []
    },
    {
      "cell_type": "code",
      "source": [
        "# Only for colab please use pip3 install -r requirements.txt for elsewhere\n",
        "import reqbar\n",
        "\n",
        "reqbar.install()"
      ],
      "metadata": {
        "id": "yr2fhdAgoadJ"
      },
      "execution_count": null,
      "outputs": []
    },
    {
      "cell_type": "markdown",
      "source": [
        "<h1>GTGAN</h1>"
      ],
      "metadata": {
        "id": "5zkqL7WHo-eI"
      }
    },
    {
      "cell_type": "code",
      "source": [
        "# imports\n",
        "from sdv.demo import load_tabular_demo\n",
        "from sdv.tabular import CTGAN"
      ],
      "metadata": {
        "id": "8DTx23c-odOc"
      },
      "execution_count": 6,
      "outputs": []
    },
    {
      "cell_type": "code",
      "source": [
        "# fetching demo tabular data\n",
        "data = load_tabular_demo('student_placements')"
      ],
      "metadata": {
        "id": "sIUXSllpos-e"
      },
      "execution_count": 7,
      "outputs": []
    },
    {
      "cell_type": "code",
      "source": [
        "# creating CTGAN model with specifying primary key to always be unique\n",
        "model = CTGAN(primary_key='student_id')"
      ],
      "metadata": {
        "id": "M9oFu4W9oust"
      },
      "execution_count": 8,
      "outputs": []
    },
    {
      "cell_type": "code",
      "source": [
        "# training the model with data\n",
        "model.fit(data)"
      ],
      "metadata": {
        "id": "u767NqWxox9r"
      },
      "execution_count": null,
      "outputs": []
    },
    {
      "cell_type": "code",
      "source": [
        "# generating new data\n",
        "new_data = model.sample(num_rows=200)"
      ],
      "metadata": {
        "id": "M4cKXzOlo0fh"
      },
      "execution_count": 10,
      "outputs": []
    },
    {
      "cell_type": "code",
      "source": [
        "# saving the model\n",
        "model.save('student_placement.pkl')"
      ],
      "metadata": {
        "id": "9VayMMmyo2N_"
      },
      "execution_count": 11,
      "outputs": []
    },
    {
      "cell_type": "code",
      "source": [
        "# loading the model\n",
        "loaded = CTGAN.load('student_placement.pkl')"
      ],
      "metadata": {
        "id": "kW--wI-Jo4B_"
      },
      "execution_count": 12,
      "outputs": []
    },
    {
      "cell_type": "code",
      "source": [
        "# generating new data from the loaded model\n",
        "new_data = loaded.sample(num_rows=300)"
      ],
      "metadata": {
        "id": "AwEAkHtuo5jR"
      },
      "execution_count": 13,
      "outputs": []
    },
    {
      "cell_type": "code",
      "source": [
        "# testing streamlit\n",
        "!streamlit run streamlit_app.py --server.maxUploadSize=1028& npx localtunnel --port 8501"
      ],
      "metadata": {
        "id": "9box3AlCo7LA"
      },
      "execution_count": null,
      "outputs": []
    }
  ]
}