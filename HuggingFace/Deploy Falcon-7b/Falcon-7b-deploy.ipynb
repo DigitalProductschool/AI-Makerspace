{
 "cells": [
  {
   "cell_type": "code",
   "execution_count": 3,
   "id": "92912fc2",
   "metadata": {},
   "outputs": [
    {
     "name": "stdout",
     "output_type": "stream",
     "text": [
      "Note: you may need to restart the kernel to use updated packages.\n"
     ]
    }
   ],
   "source": [
    "pip install -U sagemaker -q"
   ]
  },
  {
   "cell_type": "code",
   "execution_count": null,
   "id": "3b48b980",
   "metadata": {},
   "outputs": [],
   "source": [
    "import json\n",
    "import sagemaker\n",
    "import boto3\n",
    "from sagemaker.huggingface import HuggingFaceModel, get_huggingface_llm_image_uri\n",
    "\n",
    "try:\n",
    "\trole = sagemaker.get_execution_role()\n",
    "except ValueError:\n",
    "\tiam = boto3.client('iam')\n",
    "\trole = iam.get_role(RoleName='sagemaker_execution_role')['Role']['Arn']\n",
    "\n",
    "# Hub Model configuration. https://huggingface.co/models\n",
    "hub = {\n",
    "\t'HF_MODEL_ID':'tiiuae/falcon-7b-instruct',\n",
    "\t'SM_NUM_GPUS': json.dumps(1)\n",
    "}\n",
    "\n",
    "\n",
    "\n",
    "# create Hugging Face Model Class\n",
    "huggingface_model = HuggingFaceModel(\n",
    "\timage_uri=get_huggingface_llm_image_uri(\"huggingface\",version=\"1.0.3\"),\n",
    "\tenv=hub,\n",
    "\trole=role, \n",
    ")\n",
    "\n",
    "# deploy model to SageMaker Inference\n",
    "predictor = huggingface_model.deploy(\n",
    "\tinitial_instance_count=1,\n",
    "\tinstance_type=\"ml.g5.2xlarge\",\n",
    "\tcontainer_startup_health_check_timeout=1000,\n",
    "  )\n",
    "  \n",
    "# send request\n",
    "predictor.predict({\n",
    "\t\"inputs\": \"My name is Julien and I like to\",\n",
    "})"
   ]
  },
  {
   "cell_type": "code",
   "execution_count": null,
   "id": "03e8248b",
   "metadata": {},
   "outputs": [],
   "source": [
    "output=predictor.predict({\n",
    "\t\"inputs\": \"\"\"\n",
    "Answer the question as truthfully as possible using the provided text, and if the answer is not contained within the text below, say \"I don't know\".\n",
    "\n",
    "Context:\n",
    "Neeraj Chopra, the Indian athlete, achieved a historic milestone at the 2020 Summer Olympics held in Tokyo by securing the gold medal in the men's javelin throw event. His performance was remarkable, as he set a new national record with a throw of 87.58 meters during his second attempt. This victory was not only significant for him personally but also for India as a nation. Neeraj Chopra became the first Indian athlete to win a gold medal in track and field at the Olympic Games, a momentous achievement celebrated widely across the country. In a highly competitive field of javelin throwers from around the world, Neeraj's consistent and exceptional performance led to his well-deserved gold medal. His win had a profound impact, inspiring countless aspiring athletes in India and drawing attention to the sport of javelin throw, cementing Neeraj Chopra's status as a symbol of excellence in Indian athletics.\n",
    "\n",
    "\n",
    "Ques: Who won the 2020 Summer Olympics men's Javelin throw?\n",
    "\n",
    "Ans:\n",
    "\n",
    "\"\"\",\n",
    "})\n",
    "\n",
    "print(output[0]['generated_text'])"
   ]
  },
  {
   "cell_type": "code",
   "execution_count": null,
   "id": "42d0abbf",
   "metadata": {},
   "outputs": [],
   "source": []
  },
  {
   "cell_type": "code",
   "execution_count": null,
   "id": "46d4ba7c",
   "metadata": {},
   "outputs": [],
   "source": []
  }
 ],
 "metadata": {
  "kernelspec": {
   "display_name": "conda_pytorch_p310",
   "language": "python",
   "name": "conda_pytorch_p310"
  },
  "language_info": {
   "codemirror_mode": {
    "name": "ipython",
    "version": 3
   },
   "file_extension": ".py",
   "mimetype": "text/x-python",
   "name": "python",
   "nbconvert_exporter": "python",
   "pygments_lexer": "ipython3",
   "version": "3.10.12"
  }
 },
 "nbformat": 4,
 "nbformat_minor": 5
}
