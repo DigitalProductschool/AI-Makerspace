{
  "nbformat": 4,
  "nbformat_minor": 0,
  "metadata": {
    "colab": {
      "name": "Img2Cartoon.ipynb",
      "provenance": [],
      "collapsed_sections": [],
      "mount_file_id": "1uJHZ7Y5dO_pE_6bDmB7cEzs98lulQtEw",
      "authorship_tag": "ABX9TyNod4pdyy65PiXc18AQYq4M",
      "include_colab_link": true
    },
    "kernelspec": {
      "name": "python3",
      "display_name": "Python 3"
    },
    "language_info": {
      "name": "python"
    }
  },
  "cells": [
    {
      "cell_type": "markdown",
      "metadata": {
        "id": "view-in-github",
        "colab_type": "text"
      },
      "source": [
        "<a href=\"https://colab.research.google.com/github/alihussainia/AI-Makerspace/blob/master/GANs/Photo2Cartoon/Img2Cartoon.ipynb\" target=\"_parent\"><img src=\"https://colab.research.google.com/assets/colab-badge.svg\" alt=\"Open In Colab\"/></a>"
      ]
    },
    {
      "cell_type": "markdown",
      "source": [
        "# Installations"
      ],
      "metadata": {
        "id": "nVQS-Rvz5N0b"
      }
    },
    {
      "cell_type": "code",
      "source": [
        "# installing subversion linux package\n",
        "!sudo apt-get install -qq subversion "
      ],
      "metadata": {
        "id": "DBisqkWXyDGV"
      },
      "execution_count": null,
      "outputs": []
    },
    {
      "cell_type": "code",
      "source": [
        "# to only fetch the Photo2Cartoon dir from AI-Makerspace Repository\n",
        "!svn -q checkout \"https://github.com/alihussainia/AI-Makerspace/trunk/GANs/Photo2Cartoon\""
      ],
      "metadata": {
        "id": "H4R9OVE3EZyJ"
      },
      "execution_count": 2,
      "outputs": []
    },
    {
      "cell_type": "code",
      "source": [
        "# changing directory to Photo2Cartoon\n",
        "%cd /content/Photo2Cartoon"
      ],
      "metadata": {
        "id": "teoBcGwdFXwc"
      },
      "execution_count": null,
      "outputs": []
    },
    {
      "cell_type": "code",
      "source": [
        "# installing python requirements\n",
        "!pip -q install reqbar"
      ],
      "metadata": {
        "id": "MVDHU3siD0X0"
      },
      "execution_count": null,
      "outputs": []
    },
    {
      "cell_type": "code",
      "source": [
        "# Only for colab please use pip3 install -r requirements.txt for elsewhere\n",
        "import reqbar\n",
        "\n",
        "reqbar.install()"
      ],
      "metadata": {
        "id": "p_ym4H6nHUV3"
      },
      "execution_count": null,
      "outputs": []
    },
    {
      "cell_type": "markdown",
      "source": [
        "# Downloads"
      ],
      "metadata": {
        "id": "bfjE4_5x5KgJ"
      }
    },
    {
      "cell_type": "code",
      "source": [
        "# downloading model\n",
        "# ref: https://github.com/minivision-ai/photo2cartoon/blob/master/README_EN.md\n",
        "!gdown -q \"1PhwKDUhiq8p-UqrfHCqj257QnqBWD523\" -O ./models/ "
      ],
      "metadata": {
        "id": "yXpctMeu-GDj"
      },
      "execution_count": 17,
      "outputs": []
    },
    {
      "cell_type": "markdown",
      "source": [
        "# Streamlit"
      ],
      "metadata": {
        "id": "SeLamYzm5qDh"
      }
    },
    {
      "cell_type": "code",
      "source": [
        "!streamlit run streamlit_app.py & npx localtunnel --port 8501 "
      ],
      "metadata": {
        "id": "h79JSon469lq"
      },
      "execution_count": null,
      "outputs": []
    }
  ]
}